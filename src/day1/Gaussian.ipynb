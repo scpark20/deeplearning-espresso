{
 "cells": [
  {
   "cell_type": "code",
   "execution_count": 1,
   "metadata": {},
   "outputs": [],
   "source": [
    "import numpy as np\n",
    "import torch\n",
    "import torch.nn as nn\n",
    "import torch.nn.functional as F\n",
    "import matplotlib.pyplot as plt"
   ]
  },
  {
   "cell_type": "markdown",
   "metadata": {},
   "source": [
    "## 1. Dataset"
   ]
  },
  {
   "cell_type": "code",
   "execution_count": 2,
   "metadata": {},
   "outputs": [
    {
     "name": "stdout",
     "output_type": "stream",
     "text": [
      "[ 0.25268097  4.07092739 -0.79216455 ...  0.3244611   2.26135428\n",
      "  0.99268759]\n"
     ]
    }
   ],
   "source": [
    "mean = 3.0 # Gaussian distribution의 mean\n",
    "std = 2.4  # Gaussian distribution의 standard deviation\n",
    "N = 10000 # 샘플링 횟수\n",
    "\n",
    "# Gaussian distribution에서 N번 샘플링\n",
    "X = np.random.normal(loc=mean, scale=std, size=N)\n",
    "print(X)"
   ]
  },
  {
   "cell_type": "markdown",
   "metadata": {},
   "source": [
    "## 2. Optimization (Finding Parameters)"
   ]
  },
  {
   "cell_type": "markdown",
   "metadata": {},
   "source": [
    "### - In Closed Form\n",
    "\n",
    "$\\mu_{ML} = {1 \\over N} \\sum_{n=1}^N x_n$\n",
    "\n",
    "$\\sigma^2_{ML}={1 \\over N} \\sum_{n=1}^N (x_n-\\mu_{ML})^2$"
   ]
  },
  {
   "cell_type": "code",
   "execution_count": 3,
   "metadata": {},
   "outputs": [
    {
     "name": "stdout",
     "output_type": "stream",
     "text": [
      "Predicted mean : 2.987276075345989\n",
      "Predicted standard deviation : 2.391652899594258\n"
     ]
    }
   ],
   "source": [
    "mu_ML = np.mean(X)\n",
    "std_ML = np.std(X)\n",
    "print('Predicted mean :', mu_ML);\n",
    "print('Predicted standard deviation :', std_ML)"
   ]
  },
  {
   "cell_type": "markdown",
   "metadata": {},
   "source": [
    "### - By Optimizer\n",
    "$\\log p(X|\\mu,\\sigma^2)=-{N \\over 2}\\log 2\\pi-{N \\over 2}\\log \\sigma^2 -{1 \\over {2\\sigma^2}}\\sum_{n=1}^N (x_n-\\mu)^2$"
   ]
  },
  {
   "cell_type": "code",
   "execution_count": 4,
   "metadata": {},
   "outputs": [],
   "source": [
    "class Model(nn.Module):\n",
    "    def __init__(self):\n",
    "        super().__init__()\n",
    "        \n",
    "        # shape (1), mean of the Gaussian distribution\n",
    "        self.mean = nn.Parameter(torch.randn(1))\n",
    "        \n",
    "        # shape (1), log-standard deviation of the Gaussian distribution\n",
    "        self.logstd = nn.Parameter(torch.randn(1))\n",
    "        \n",
    "    def _get_negative_log_likelihood(self, mean, logstd, X, eps=1e-5):\n",
    "        # X : (batch)\n",
    "        \n",
    "        # sample 하나 당 평균 negative log-likelihood 계산\n",
    "        return torch.mean(0.5 * np.log(2*np.pi) + logstd + 0.5 * (X - mean) ** 2 / (logstd.exp() ** 2))\n",
    "        \n",
    "    def forward(self, X):\n",
    "        # X : (batch), a batch data\n",
    "        \n",
    "        negative_log_likelihood = self._get_negative_log_likelihood(self.mean, self.logstd, X)\n",
    "        \n",
    "        return negative_log_likelihood\n",
    "        "
   ]
  },
  {
   "cell_type": "markdown",
   "metadata": {},
   "source": [
    "## 3. Create Model and Optimizer"
   ]
  },
  {
   "cell_type": "code",
   "execution_count": 5,
   "metadata": {},
   "outputs": [
    {
     "name": "stdout",
     "output_type": "stream",
     "text": [
      "Model and Optimizer Created\n"
     ]
    }
   ],
   "source": [
    "model = Model()\n",
    "optimizer = torch.optim.Adam(model.parameters(), 1e-3)\n",
    "\n",
    "print('Model and Optimizer Created')"
   ]
  },
  {
   "cell_type": "markdown",
   "metadata": {},
   "source": [
    "## 4. Create data tensor"
   ]
  },
  {
   "cell_type": "code",
   "execution_count": 6,
   "metadata": {
    "scrolled": true
   },
   "outputs": [
    {
     "name": "stdout",
     "output_type": "stream",
     "text": [
      "tensor([ 0.2527,  4.0709, -0.7922,  ...,  0.3245,  2.2614,  0.9927],\n",
      "       dtype=torch.float64)\n"
     ]
    }
   ],
   "source": [
    "X_tensor = torch.from_numpy(X)\n",
    "print(X_tensor)"
   ]
  },
  {
   "cell_type": "markdown",
   "metadata": {},
   "source": [
    "## 5. Train Loop"
   ]
  },
  {
   "cell_type": "code",
   "execution_count": null,
   "metadata": {
    "scrolled": true
   },
   "outputs": [],
   "source": [
    "# model을 train mode로 설정\n",
    "model.train()\n",
    "\n",
    "loss_list = []\n",
    "param_list = []\n",
    "for _ in range(10000):\n",
    "    \n",
    "    # model의 gradient들을 모두 0으로 설정\n",
    "    model.zero_grad()\n",
    "    \n",
    "    # model의 forward function을 실행\n",
    "    loss = model(X_tensor)\n",
    "    loss_list.append(loss.item())\n",
    "\n",
    "    # loss값을 시작으로 back-propagation 실행하여 gradient update\n",
    "    loss.backward()\n",
    "    # update된 gradient를 weight에 적용\n",
    "    optimizer.step()\n",
    "    \n",
    "    param_list.append((model.mean.item(), model.logstd.item()))\n",
    "\n",
    "param_list = np.array(param_list)\n",
    "print('Train Finished')"
   ]
  },
  {
   "cell_type": "code",
   "execution_count": null,
   "metadata": {
    "scrolled": false
   },
   "outputs": [],
   "source": [
    "plt.figure(figsize=[10, 2])\n",
    "plt.title('Loss Function')\n",
    "plt.plot(loss_list)\n",
    "plt.show()\n",
    "\n",
    "plt.figure(figsize=[10, 2])\n",
    "plt.title('Parameter Prediction')\n",
    "plt.plot(param_list[:, 0], label='predicted mean')\n",
    "plt.plot(np.exp(param_list[:, 1]), label='predicted standard deviation')\n",
    "plt.legend()\n",
    "plt.show()\n",
    "\n",
    "print('predicted mean :', param_list[-1, 0])\n",
    "print('predicted std :', np.exp(param_list[-1, 1]))"
   ]
  },
  {
   "cell_type": "code",
   "execution_count": null,
   "metadata": {},
   "outputs": [],
   "source": []
  },
  {
   "cell_type": "code",
   "execution_count": null,
   "metadata": {},
   "outputs": [],
   "source": []
  }
 ],
 "metadata": {
  "kernelspec": {
   "display_name": "Python 3",
   "language": "python",
   "name": "python3"
  },
  "language_info": {
   "codemirror_mode": {
    "name": "ipython",
    "version": 3
   },
   "file_extension": ".py",
   "mimetype": "text/x-python",
   "name": "python",
   "nbconvert_exporter": "python",
   "pygments_lexer": "ipython3",
   "version": "3.7.5"
  }
 },
 "nbformat": 4,
 "nbformat_minor": 4
}
