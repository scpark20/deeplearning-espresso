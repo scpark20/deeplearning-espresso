{
 "cells": [
  {
   "cell_type": "code",
   "execution_count": 13,
   "metadata": {},
   "outputs": [],
   "source": [
    "import numpy as np\n",
    "import torch\n",
    "import torch.nn as nn\n",
    "import torch.nn.functional as F\n",
    "import matplotlib.pyplot as plt"
   ]
  },
  {
   "cell_type": "markdown",
   "metadata": {},
   "source": [
    "## 1. Dataset"
   ]
  },
  {
   "cell_type": "code",
   "execution_count": 14,
   "metadata": {
    "scrolled": true
   },
   "outputs": [
    {
     "name": "stdout",
     "output_type": "stream",
     "text": [
      "[1 2 2 ... 2 2 3]\n"
     ]
    }
   ],
   "source": [
    "K = 5 # 5가지의 값을 샘플링\n",
    "mu = [0.2, 0.1, 0.25, 0.3, 0.15]  # [0, 1, 2, 3, 4]가 나올 확률값 \n",
    "N = 10000 # 시행 횟수\n",
    "\n",
    "#[0, 1, 2, 3, 4]의 수를 mu의 확률로 N번 샘플링\n",
    "X = np.random.choice([k for k in range(K)], size=N, p=mu)\n",
    "print(X)"
   ]
  },
  {
   "cell_type": "markdown",
   "metadata": {},
   "source": [
    "## 2. Optimization (Finding Parameters)"
   ]
  },
  {
   "cell_type": "markdown",
   "metadata": {},
   "source": [
    "### - In Closed Form\n",
    "\n",
    "$\\mu_k^{ML}=N_k/N,$ where $N$is the number of samples, $N_k$ is the number of samples whose value is $k$."
   ]
  },
  {
   "cell_type": "code",
   "execution_count": 15,
   "metadata": {},
   "outputs": [
    {
     "name": "stdout",
     "output_type": "stream",
     "text": [
      "[0.2068 0.0994 0.2468 0.2964 0.1506]\n"
     ]
    }
   ],
   "source": [
    "mu_ML = np.array([np.sum(X==k) / len(X) for k in range(K)])\n",
    "print(mu_ML)"
   ]
  },
  {
   "cell_type": "markdown",
   "metadata": {},
   "source": [
    "### - By Optimizer"
   ]
  },
  {
   "cell_type": "code",
   "execution_count": 16,
   "metadata": {},
   "outputs": [],
   "source": [
    "class Model(nn.Module):\n",
    "    def __init__(self):\n",
    "        super().__init__()\n",
    "        \n",
    "        # shape (K), logit values for the categories\n",
    "        self.logits = nn.Parameter(torch.randn(K))\n",
    "        \n",
    "    def _get_negative_log_likelihood(self, logits, X, eps=1e-5):\n",
    "        # X : (batch)\n",
    "        # logits : (K)\n",
    "    \n",
    "        # (batch, K)\n",
    "        logits = logits.unsqueeze(0).repeat(X.size(0), 1)\n",
    "        #return nn.CrossEntropyLoss()(logits, X) \n",
    "        return nn.NLLLoss()(nn.LogSoftmax(dim=1)(logits), X)\n",
    "        \n",
    "    def forward(self, X):\n",
    "        # X : (batch), a batch data\n",
    "        \n",
    "        negative_log_likelihood = self._get_negative_log_likelihood(self.logits, X)\n",
    "        \n",
    "        return negative_log_likelihood\n",
    "        "
   ]
  },
  {
   "cell_type": "markdown",
   "metadata": {},
   "source": [
    "## 3. Create Model and Optimizer"
   ]
  },
  {
   "cell_type": "code",
   "execution_count": 17,
   "metadata": {},
   "outputs": [
    {
     "name": "stdout",
     "output_type": "stream",
     "text": [
      "Model and Optimizer Created\n"
     ]
    }
   ],
   "source": [
    "model = Model()\n",
    "optimizer = torch.optim.Adam(model.parameters(), 1e-2)\n",
    "\n",
    "print('Model and Optimizer Created')"
   ]
  },
  {
   "cell_type": "markdown",
   "metadata": {},
   "source": [
    "## 4. Create data tensor"
   ]
  },
  {
   "cell_type": "code",
   "execution_count": 18,
   "metadata": {
    "scrolled": true
   },
   "outputs": [
    {
     "name": "stdout",
     "output_type": "stream",
     "text": [
      "tensor([1, 2, 2,  ..., 2, 2, 3])\n"
     ]
    }
   ],
   "source": [
    "X_tensor = torch.from_numpy(X)\n",
    "print(X_tensor)"
   ]
  },
  {
   "cell_type": "markdown",
   "metadata": {},
   "source": [
    "## 5. Train Loop"
   ]
  },
  {
   "cell_type": "code",
   "execution_count": 19,
   "metadata": {
    "scrolled": true
   },
   "outputs": [
    {
     "name": "stdout",
     "output_type": "stream",
     "text": [
      "Train Finished\n"
     ]
    }
   ],
   "source": [
    "# model을 train mode로 설정\n",
    "model.train()\n",
    "\n",
    "loss_list = []\n",
    "mu_list = []\n",
    "for _ in range(200):\n",
    "    \n",
    "    # model의 gradient들을 모두 0으로 설정\n",
    "    model.zero_grad()\n",
    "    \n",
    "    # model의 forward function을 실행\n",
    "    loss = model(X_tensor)\n",
    "    loss_list.append(loss.item())\n",
    "\n",
    "    # loss값을 시작으로 back-propagation 실행하여 gradient update\n",
    "    loss.backward()\n",
    "    # update된 gradient를 weight에 적용\n",
    "    optimizer.step()\n",
    "    \n",
    "    mu_list.append(torch.softmax(model.logits, dim=0).data.cpu().numpy())\n",
    "\n",
    "mu_list = np.stack(mu_list)\n",
    "print('Train Finished')"
   ]
  },
  {
   "cell_type": "code",
   "execution_count": 20,
   "metadata": {
    "scrolled": true
   },
   "outputs": [
    {
     "data": {
      "image/png": "[encoded data removed]",
      "text/plain": [
       "<Figure size 720x144 with 1 Axes>"
      ]
     },
     "metadata": {
      "needs_background": "light"
     },
     "output_type": "display_data"
    },
    {
     "data": {
      "image/png": "[encoded data removed]",
      "text/plain": [
       "<Figure size 720x144 with 1 Axes>"
      ]
     },
     "metadata": {
      "needs_background": "light"
     },
     "output_type": "display_data"
    }
   ],
   "source": [
    "plt.figure(figsize=[10, 2])\n",
    "plt.title('Loss Function')\n",
    "plt.plot(loss_list)\n",
    "#plt.ylim([0.5, 2])\n",
    "plt.show()\n",
    "\n",
    "plt.figure(figsize=[10, 2])\n",
    "plt.title('Mu ' + str(mu_list[-1]))\n",
    "for k in range(K):\n",
    "    plt.plot(mu_list[:, k], label=str(k))\n",
    "plt.ylim([0, 0.4])\n",
    "plt.legend()\n",
    "plt.show()"
   ]
  }
 ],
 "metadata": {
  "kernelspec": {
   "display_name": "Python 3",
   "language": "python",
   "name": "python3"
  },
  "language_info": {
   "codemirror_mode": {
    "name": "ipython",
    "version": 3
   },
   "file_extension": ".py",
   "mimetype": "text/x-python",
   "name": "python",
   "nbconvert_exporter": "python",
   "pygments_lexer": "ipython3",
   "version": "3.7.5"
  }
 },
 "nbformat": 4,
 "nbformat_minor": 4
}
