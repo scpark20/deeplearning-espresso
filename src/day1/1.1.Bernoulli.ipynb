{
 "cells": [
  {
   "cell_type": "code",
   "execution_count": 72,
   "metadata": {},
   "outputs": [],
   "source": [
    "import numpy as np\n",
    "import torch\n",
    "import torch.nn as nn\n",
    "import torch.nn.functional as F\n",
    "import matplotlib.pyplot as plt"
   ]
  },
  {
   "cell_type": "markdown",
   "metadata": {},
   "source": [
    "## 1. Dataset"
   ]
  },
  {
   "cell_type": "code",
   "execution_count": 73,
   "metadata": {
    "scrolled": true
   },
   "outputs": [
    {
     "name": "stdout",
     "output_type": "stream",
     "text": [
      "[0 1 0 ... 0 1 0]\n",
      "2969\n"
     ]
    }
   ],
   "source": [
    "n = 1    # 한 번 sampling (Bernoulli)\n",
    "mu = 0.3  # 1이 나올 확률 \n",
    "N = 10000 # 시행 횟수\n",
    "\n",
    "X = np.random.binomial(n, mu, size=N)\n",
    "print(X)\n",
    "\n",
    "print(sum(X))"
   ]
  },
  {
   "cell_type": "markdown",
   "metadata": {},
   "source": [
    "## 2. Optimization (Finding Parameters)"
   ]
  },
  {
   "cell_type": "markdown",
   "metadata": {},
   "source": [
    "### - In Closed Form\n",
    "\n",
    "$\\mu_{ML}={1 \\over N} \\sum^{N}_{n=1}x_n$ (sample mean)"
   ]
  },
  {
   "cell_type": "code",
   "execution_count": 74,
   "metadata": {},
   "outputs": [
    {
     "name": "stdout",
     "output_type": "stream",
     "text": [
      "Probability of heads : 0.2969\n"
     ]
    }
   ],
   "source": [
    "mu_ML = np.mean(X)\n",
    "print('Probability of heads :', mu_ML)"
   ]
  },
  {
   "cell_type": "markdown",
   "metadata": {},
   "source": [
    "### - By Optimizer\n",
    "#### Objective Function = Log Likelihood\n",
    "$\\log p(X|\\mu)=\\sum_{n=1}^N \\log p(x_n|\\mu)=\\sum_{n=1}^N\\{x_n\\log\\mu+(1-x_n)\\log(1-\\mu)\\}$"
   ]
  },
  {
   "cell_type": "code",
   "execution_count": 75,
   "metadata": {},
   "outputs": [],
   "source": [
    "class Model(nn.Module):\n",
    "    def __init__(self):\n",
    "        super().__init__()\n",
    "        \n",
    "        # shape (1), the probability of heads\n",
    "        self.mu = nn.Parameter(torch.zeros(1))\n",
    "        \n",
    "    def _get_log_likelihood(self, mu, X, eps=1e-5):\n",
    "    \n",
    "        # 데이터 전체의 log-likelihood는 sum으로 계산하나 이는 데이터 갯수에 따라 달라지는 값이다.\n",
    "        # 데이터 하나 당의 평균 log-likelihood를 반환하기 위해 mean으로 처리.\n",
    "        return torch.mean(X * torch.log(mu+eps) + (1-X) * torch.log(1-mu+eps))    \n",
    "        \n",
    "    def forward(self, X):\n",
    "        # X : (batch), a batch data\n",
    "        \n",
    "        log_likelihood = self._get_log_likelihood(self.mu, X)\n",
    "        \n",
    "        # return \"NEGATIVE\" log likelihood\n",
    "        return -log_likelihood\n",
    "        "
   ]
  },
  {
   "cell_type": "markdown",
   "metadata": {},
   "source": [
    "## 3. Create Model and Optimizer"
   ]
  },
  {
   "cell_type": "code",
   "execution_count": 76,
   "metadata": {},
   "outputs": [
    {
     "name": "stdout",
     "output_type": "stream",
     "text": [
      "Model and Optimizer Created\n"
     ]
    }
   ],
   "source": [
    "model = Model()\n",
    "optimizer = torch.optim.Adam(model.parameters(), 1e-2)\n",
    "\n",
    "print('Model and Optimizer Created')"
   ]
  },
  {
   "cell_type": "markdown",
   "metadata": {},
   "source": [
    "## 4. Create data tensor"
   ]
  },
  {
   "cell_type": "code",
   "execution_count": 77,
   "metadata": {
    "scrolled": true
   },
   "outputs": [
    {
     "name": "stdout",
     "output_type": "stream",
     "text": [
      "tensor([0, 1, 0,  ..., 0, 1, 0])\n"
     ]
    }
   ],
   "source": [
    "X_tensor = torch.from_numpy(X)\n",
    "print(X_tensor)"
   ]
  },
  {
   "cell_type": "markdown",
   "metadata": {},
   "source": [
    "## 5. Train Loop"
   ]
  },
  {
   "cell_type": "code",
   "execution_count": 78,
   "metadata": {},
   "outputs": [
    {
     "name": "stdout",
     "output_type": "stream",
     "text": [
      "Train Finished\n"
     ]
    }
   ],
   "source": [
    "# model을 train mode로 설정\n",
    "model.train()\n",
    "\n",
    "loss_list = []\n",
    "mu_list = []\n",
    "for _ in range(10000):\n",
    "    \n",
    "    # model의 gradient들을 모두 0으로 설정\n",
    "    model.zero_grad()\n",
    "    \n",
    "    # model의 forward function을 실행\n",
    "    loss = model(X_tensor)\n",
    "    loss_list.append(loss.item())\n",
    "\n",
    "    # loss값을 시작으로 back-propagation 실행하여 gradient update\n",
    "    loss.backward()\n",
    "    # update된 gradient를 weight에 적용\n",
    "    optimizer.step()\n",
    "    \n",
    "    mu_list.append(model.mu.item())\n",
    "\n",
    "print('Train Finished')"
   ]
  },
  {
   "cell_type": "code",
   "execution_count": 79,
   "metadata": {},
   "outputs": [
    {
     "data": {
      "image/png": "[encoded data removed]",
      "text/plain": [
       "<Figure size 720x144 with 1 Axes>"
      ]
     },
     "metadata": {
      "needs_background": "light"
     },
     "output_type": "display_data"
    },
    {
     "data": {
      "image/png": "[encoded data removed]",
      "text/plain": [
       "<Figure size 720x144 with 1 Axes>"
      ]
     },
     "metadata": {
      "needs_background": "light"
     },
     "output_type": "display_data"
    }
   ],
   "source": [
    "plt.figure(figsize=[10, 2])\n",
    "plt.title('Loss Function')\n",
    "plt.plot(loss_list)\n",
    "plt.ylim([0.5, 2])\n",
    "plt.show()\n",
    "\n",
    "plt.figure(figsize=[10, 2])\n",
    "plt.title('Mu Value :' + '%0.4f' %model.mu.item())\n",
    "plt.plot(mu_list)\n",
    "plt.ylim([0, 0.4])\n",
    "plt.show()"
   ]
  }
 ],
 "metadata": {
  "kernelspec": {
   "display_name": "Python 3",
   "language": "python",
   "name": "python3"
  },
  "language_info": {
   "codemirror_mode": {
    "name": "ipython",
    "version": 3
   },
   "file_extension": ".py",
   "mimetype": "text/x-python",
   "name": "python",
   "nbconvert_exporter": "python",
   "pygments_lexer": "ipython3",
   "version": "3.8.8"
  }
 },
 "nbformat": 4,
 "nbformat_minor": 4
}
