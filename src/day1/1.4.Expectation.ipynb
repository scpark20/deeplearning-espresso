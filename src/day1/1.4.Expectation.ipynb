{
 "cells": [
  {
   "cell_type": "code",
   "execution_count": 76,
   "metadata": {},
   "outputs": [],
   "source": [
    "import numpy as np\n",
    "import matplotlib.pyplot as plt"
   ]
  },
  {
   "cell_type": "markdown",
   "metadata": {},
   "source": [
    "### Case : Discrete Probability Distribution \n",
    "#### example : 복권 당첨금 기댓값\n",
    "$E[f]=\\sum_x p(x)f(x)$"
   ]
  },
  {
   "cell_type": "code",
   "execution_count": 77,
   "metadata": {},
   "outputs": [],
   "source": [
    "# 등수별 당첨금\n",
    "def f(x):\n",
    "    if x == 1:\n",
    "        ret = 2846071079\n",
    "    elif x == 2:\n",
    "        ret = 74407088\n",
    "    elif x == 3:\n",
    "        ret = 1629353\n",
    "    elif x == 4:\n",
    "        ret = 50000\n",
    "    elif x == 5:\n",
    "        ret = 5000\n",
    "    elif x == 0:\n",
    "        return 0\n",
    "    else:\n",
    "        raise Exception('There is no information for a given rank.')\n",
    "        \n",
    "    return ret\n",
    "        "
   ]
  },
  {
   "cell_type": "code",
   "execution_count": 78,
   "metadata": {},
   "outputs": [],
   "source": [
    "# 등수별 당첨 확률 \n",
    "def p(x):\n",
    "    if x == 1: \n",
    "        ret = 1/8145060 # 1등 확률\n",
    "    elif x == 2:\n",
    "        ret = 1/1357510 # 2등 확률\n",
    "    elif x == 3:\n",
    "        ret = 1/35724 # 3등 확률\n",
    "    elif x == 4:\n",
    "        ret = 1/733 # 4등 확률\n",
    "    elif x == 5: \n",
    "        ret = 1/45 # 5등 확률\n",
    "    elif x == 0: \n",
    "        return 1-p(1)-p(2)-p(3)-p(4)-p(5) # 꽝\n",
    "    else:\n",
    "        raise Exception('There is no information for a given rank.')\n",
    "        \n",
    "    return ret    "
   ]
  },
  {
   "cell_type": "code",
   "execution_count": 79,
   "metadata": {},
   "outputs": [
    {
     "name": "stdout",
     "output_type": "stream",
     "text": [
      "Expectation value : 629.17 (KRW)\n"
     ]
    }
   ],
   "source": [
    "X = [0, 1, 2, 3, 4, 5]\n",
    "\n",
    "expectation = 0\n",
    "for x in X:\n",
    "    expectation += p(x) * f(x)\n",
    "    \n",
    "print('Expectation value :', '%0.2f' % expectation, \"(KRW)\")    "
   ]
  },
  {
   "cell_type": "markdown",
   "metadata": {},
   "source": [
    "### Case : Continuous probability distribution\n",
    "\n",
    "$E[f] = \\int p(x)f(x)dx$\n",
    "\n",
    "$\\;\\;\\;\\;\\;\\;\\; \\approx {1 \\over N}\\sum^N_{n=1}$ $f(x_n)$, $x_n$ is a sample of $p(x)$\n",
    "\n",
    "#### example : Entropy\n",
    "$H[p] = \\int p(x)(-\\log p(x)) dx $"
   ]
  },
  {
   "cell_type": "code",
   "execution_count": 87,
   "metadata": {},
   "outputs": [
    {
     "name": "stdout",
     "output_type": "stream",
     "text": [
      " Entropy of Gaussian distribution by sampling    : 1.4099398194212962\n",
      " Entropy of Gaussian distribution in closed form : 1.4189385332046727\n"
     ]
    }
   ],
   "source": [
    "def get_gaussian_distribution_entropy_by_sampling(mean=0, std=1, N=10000):\n",
    "    \n",
    "    # negative log-Gaussian function\n",
    "    def f(x, mean, std):\n",
    "        return 0.5 * np.log(2*np.pi) + np.log(std) + 0.5*((x-mean)**2/std**2)\n",
    "    \n",
    "    f_list = []\n",
    "    for _ in range(N):\n",
    "        random_value = np.random.normal()\n",
    "        f_value = f(random_value, mean, std)\n",
    "        f_list.append(f_value)\n",
    "        \n",
    "    expectation = np.mean(f_list)\n",
    "    \n",
    "    return expectation\n",
    "\n",
    "def get_gaussian_distribution_entropy_in_closed_form(mean=0, std=1):\n",
    "    return 0.5 * np.log(2*np.pi*np.e*std**2)\n",
    "        \n",
    "\n",
    "print(' Entropy of Gaussian distribution by sampling    :', get_gaussian_distribution_entropy_by_sampling(0, 1))\n",
    "print(' Entropy of Gaussian distribution in closed form :', get_gaussian_distribution_entropy_in_closed_form(0, 1))"
   ]
  },
  {
   "cell_type": "code",
   "execution_count": 88,
   "metadata": {},
   "outputs": [
    {
     "name": "stdout",
     "output_type": "stream",
     "text": [
      " Entropy (mean=0, std=1): 1.4189385332046727\n",
      " Entropy (mean=0, std=2): 2.112085713764618\n",
      " Entropy (mean=0, std=3): 2.5175508218727822\n",
      " Entropy (mean=0, std=4): 2.8052328943245635\n"
     ]
    }
   ],
   "source": [
    "print(' Entropy (mean=0, std=1):', get_gaussian_distribution_entropy_in_closed_form(0, 1))\n",
    "print(' Entropy (mean=0, std=2):', get_gaussian_distribution_entropy_in_closed_form(0, 2))\n",
    "print(' Entropy (mean=0, std=3):', get_gaussian_distribution_entropy_in_closed_form(0, 3))\n",
    "print(' Entropy (mean=0, std=4):', get_gaussian_distribution_entropy_in_closed_form(0, 4))"
   ]
  },
  {
   "cell_type": "code",
   "execution_count": 89,
   "metadata": {},
   "outputs": [
    {
     "name": "stdout",
     "output_type": "stream",
     "text": [
      " Entropy (mean=0, std=1): 1.4189385332046727\n",
      " Entropy (mean=1, std=1): 1.4189385332046727\n",
      " Entropy (mean=2, std=1): 1.4189385332046727\n",
      " Entropy (mean=3, std=1): 1.4189385332046727\n"
     ]
    }
   ],
   "source": [
    "print(' Entropy (mean=0, std=1):', get_gaussian_distribution_entropy_in_closed_form(0, 1))\n",
    "print(' Entropy (mean=1, std=1):', get_gaussian_distribution_entropy_in_closed_form(1, 1))\n",
    "print(' Entropy (mean=2, std=1):', get_gaussian_distribution_entropy_in_closed_form(2, 1))\n",
    "print(' Entropy (mean=3, std=1):', get_gaussian_distribution_entropy_in_closed_form(3, 1))"
   ]
  }
 ],
 "metadata": {
  "kernelspec": {
   "display_name": "Python 3",
   "language": "python",
   "name": "python3"
  },
  "language_info": {
   "codemirror_mode": {
    "name": "ipython",
    "version": 3
   },
   "file_extension": ".py",
   "mimetype": "text/x-python",
   "name": "python",
   "nbconvert_exporter": "python",
   "pygments_lexer": "ipython3",
   "version": "3.7.5"
  }
 },
 "nbformat": 4,
 "nbformat_minor": 4
}
