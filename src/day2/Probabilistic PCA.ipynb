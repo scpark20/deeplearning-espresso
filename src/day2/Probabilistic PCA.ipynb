{
 "cells": [
  {
   "cell_type": "code",
   "execution_count": 1,
   "metadata": {
    "scrolled": true
   },
   "outputs": [
    {
     "name": "stderr",
     "output_type": "stream",
     "text": [
      "/home/scpark/anaconda3/envs/ai/lib/python3.7/site-packages/tensorflow/python/framework/dtypes.py:516: FutureWarning: Passing (type, 1) or '1type' as a synonym of type is deprecated; in a future version of numpy, it will be understood as (type, (1,)) / '(1,)type'.\n",
      "  _np_qint8 = np.dtype([(\"qint8\", np.int8, 1)])\n",
      "/home/scpark/anaconda3/envs/ai/lib/python3.7/site-packages/tensorflow/python/framework/dtypes.py:517: FutureWarning: Passing (type, 1) or '1type' as a synonym of type is deprecated; in a future version of numpy, it will be understood as (type, (1,)) / '(1,)type'.\n",
      "  _np_quint8 = np.dtype([(\"quint8\", np.uint8, 1)])\n",
      "/home/scpark/anaconda3/envs/ai/lib/python3.7/site-packages/tensorflow/python/framework/dtypes.py:518: FutureWarning: Passing (type, 1) or '1type' as a synonym of type is deprecated; in a future version of numpy, it will be understood as (type, (1,)) / '(1,)type'.\n",
      "  _np_qint16 = np.dtype([(\"qint16\", np.int16, 1)])\n",
      "/home/scpark/anaconda3/envs/ai/lib/python3.7/site-packages/tensorflow/python/framework/dtypes.py:519: FutureWarning: Passing (type, 1) or '1type' as a synonym of type is deprecated; in a future version of numpy, it will be understood as (type, (1,)) / '(1,)type'.\n",
      "  _np_quint16 = np.dtype([(\"quint16\", np.uint16, 1)])\n",
      "/home/scpark/anaconda3/envs/ai/lib/python3.7/site-packages/tensorflow/python/framework/dtypes.py:520: FutureWarning: Passing (type, 1) or '1type' as a synonym of type is deprecated; in a future version of numpy, it will be understood as (type, (1,)) / '(1,)type'.\n",
      "  _np_qint32 = np.dtype([(\"qint32\", np.int32, 1)])\n",
      "/home/scpark/anaconda3/envs/ai/lib/python3.7/site-packages/tensorflow/python/framework/dtypes.py:525: FutureWarning: Passing (type, 1) or '1type' as a synonym of type is deprecated; in a future version of numpy, it will be understood as (type, (1,)) / '(1,)type'.\n",
      "  np_resource = np.dtype([(\"resource\", np.ubyte, 1)])\n",
      "/home/scpark/anaconda3/envs/ai/lib/python3.7/site-packages/tensorboard/compat/tensorflow_stub/dtypes.py:541: FutureWarning: Passing (type, 1) or '1type' as a synonym of type is deprecated; in a future version of numpy, it will be understood as (type, (1,)) / '(1,)type'.\n",
      "  _np_qint8 = np.dtype([(\"qint8\", np.int8, 1)])\n",
      "/home/scpark/anaconda3/envs/ai/lib/python3.7/site-packages/tensorboard/compat/tensorflow_stub/dtypes.py:542: FutureWarning: Passing (type, 1) or '1type' as a synonym of type is deprecated; in a future version of numpy, it will be understood as (type, (1,)) / '(1,)type'.\n",
      "  _np_quint8 = np.dtype([(\"quint8\", np.uint8, 1)])\n",
      "/home/scpark/anaconda3/envs/ai/lib/python3.7/site-packages/tensorboard/compat/tensorflow_stub/dtypes.py:543: FutureWarning: Passing (type, 1) or '1type' as a synonym of type is deprecated; in a future version of numpy, it will be understood as (type, (1,)) / '(1,)type'.\n",
      "  _np_qint16 = np.dtype([(\"qint16\", np.int16, 1)])\n",
      "/home/scpark/anaconda3/envs/ai/lib/python3.7/site-packages/tensorboard/compat/tensorflow_stub/dtypes.py:544: FutureWarning: Passing (type, 1) or '1type' as a synonym of type is deprecated; in a future version of numpy, it will be understood as (type, (1,)) / '(1,)type'.\n",
      "  _np_quint16 = np.dtype([(\"quint16\", np.uint16, 1)])\n",
      "/home/scpark/anaconda3/envs/ai/lib/python3.7/site-packages/tensorboard/compat/tensorflow_stub/dtypes.py:545: FutureWarning: Passing (type, 1) or '1type' as a synonym of type is deprecated; in a future version of numpy, it will be understood as (type, (1,)) / '(1,)type'.\n",
      "  _np_qint32 = np.dtype([(\"qint32\", np.int32, 1)])\n",
      "/home/scpark/anaconda3/envs/ai/lib/python3.7/site-packages/tensorboard/compat/tensorflow_stub/dtypes.py:550: FutureWarning: Passing (type, 1) or '1type' as a synonym of type is deprecated; in a future version of numpy, it will be understood as (type, (1,)) / '(1,)type'.\n",
      "  np_resource = np.dtype([(\"resource\", np.ubyte, 1)])\n"
     ]
    }
   ],
   "source": [
    "import numpy as np\n",
    "import matplotlib.pyplot as plt\n",
    "from IPython import display\n",
    "import tensorflow as tf\n",
    "import os"
   ]
  },
  {
   "cell_type": "markdown",
   "metadata": {},
   "source": [
    "### Dataset"
   ]
  },
  {
   "cell_type": "code",
   "execution_count": 2,
   "metadata": {},
   "outputs": [],
   "source": [
    "# Training Flags (hyperparameter configuration)\n",
    "model_name = 'ppca'\n",
    "train_dir = os.path.join('train', model_name, 'exp1')\n",
    "dataset_name = 'mnist'\n",
    "assert dataset_name in ['mnist', 'fashion_mnist']\n",
    "height = 28\n",
    "width = 28\n",
    "x_dim = height * width\n",
    "z_dim = 2"
   ]
  },
  {
   "cell_type": "code",
   "execution_count": 3,
   "metadata": {},
   "outputs": [],
   "source": [
    "# Load training and eval data from tf.keras\n",
    "if dataset_name == 'mnist':\n",
    "  (train_images, train_labels), _ = \\\n",
    "      tf.keras.datasets.mnist.load_data()\n",
    "else:\n",
    "  (train_images, train_labels), _ = \\\n",
    "      tf.keras.datasets.fashion_mnist.load_data()\n",
    "\n",
    "train_images = train_images.reshape(-1, 28, 28, 1).astype('float32')\n",
    "#train_images = train_images / 255. # Normalize the images to [0, 1]\n",
    "train_images = (train_images - 127.5) / 127.5 # Normalize the images to [-1, 1]"
   ]
  },
  {
   "cell_type": "code",
   "execution_count": 4,
   "metadata": {},
   "outputs": [
    {
     "name": "stdout",
     "output_type": "stream",
     "text": [
      "(60000, 784)\n",
      "(1000, 784, 1)\n",
      "(1000,)\n"
     ]
    }
   ],
   "source": [
    "X = train_images.reshape([-1, x_dim])\n",
    "print(X.shape)\n",
    "\n",
    "X_indexes = np.random.randint(0, len(X), 1000)\n",
    "X = X[X_indexes][:, :, None]\n",
    "print(X.shape)\n",
    "\n",
    "t = train_labels[X_indexes]\n",
    "print(t.shape)"
   ]
  },
  {
   "cell_type": "markdown",
   "metadata": {},
   "source": [
    "### Expectation & Maximization Functions Implementation"
   ]
  },
  {
   "cell_type": "code",
   "execution_count": 5,
   "metadata": {},
   "outputs": [],
   "source": [
    "from numpy.linalg import inv\n",
    "\n",
    "def get_M(W, variance):\n",
    "    return W.T @ W + variance * np.eye(z_dim)\n",
    "\n",
    "def get_z_mean(M_inv, W, x, x_mean):\n",
    "    z_mean = M_inv @ W.T @ (x - x_mean)\n",
    "    \n",
    "    return z_mean\n",
    "\n",
    "def get_z_cov(variance, M_inv, z_mean):\n",
    "    return variance * M_inv + z_mean @ z_mean.T\n",
    "\n",
    "def E_step(W, variance, X, x_mean):\n",
    "    M = get_M(W, variance)\n",
    "    M_inv = inv(M)\n",
    "    \n",
    "    z_means = []\n",
    "    z_covs = []\n",
    "    for i in range(len(X)):\n",
    "        z_mean = get_z_mean(M_inv, W, X[i], x_mean)\n",
    "        z_cov = get_z_cov(variance, M_inv, z_mean)\n",
    "        z_means.append(z_mean)\n",
    "        z_covs.append(z_cov)\n",
    "    \n",
    "    z_means = np.stack(z_means)\n",
    "    z_covs = np.stack(z_covs)\n",
    "    \n",
    "    return z_means, z_covs\n",
    "\n",
    "def get_W_new(X, x_mean, z_means, z_covs):\n",
    "    # X: [N, x_dim, 1]\n",
    "    # x_mean: [x_dim, 1]\n",
    "    # z_means: [N, z_dim, 1]\n",
    "    # z_covs: [N, z_dim, z_dim]\n",
    "    \n",
    "    a = np.zeros([x_dim, z_dim])\n",
    "    for n in range(len(X)):\n",
    "        a += (X[n] - x_mean) @ z_means[n].T\n",
    "        \n",
    "    b = np.zeros([z_dim, z_dim])\n",
    "    for n in range(len(X)):\n",
    "        b += z_covs[n]\n",
    "        \n",
    "    b = inv(b)\n",
    "    \n",
    "    return a @ b\n",
    "\n",
    "def get_variance_new(X, x_mean, z_means, z_covs, W_new):\n",
    "    # X: [N, x_dim, 1]\n",
    "    # x_mean: [dim, 1]\n",
    "    # z_means: [N, z_dim, 1]\n",
    "    # z_covs: [N, z_dim, z_dim]\n",
    "    # W_new: [x_dim, z_dim]\n",
    "    \n",
    "    for n in range(len(X)):\n",
    "        a = np.linalg.norm(X[n] - x_mean[:, 0], ord=2)\n",
    "        b = 2 * z_means[n].T @ W_new.T @ (X[n] - x_mean)\n",
    "        c = np.trace(z_covs[n] @ W_new.T @ W_new)\n",
    "        variance_new = np.sum(a - b + c) / (len(X) * x_dim)\n",
    "        \n",
    "        return variance_new\n",
    "    \n",
    "def M_step(X, x_mean, z_means, z_covs):\n",
    "    # X: [N, x_dim, 1]\n",
    "    # x_mean: [x_dim, 1]\n",
    "    # z_means: [N, z_dim, 1]\n",
    "    # z_covs: [N, z_dim, z_dim]\n",
    "    \n",
    "    W_new = get_W_new(X, x_mean, z_means, z_covs)\n",
    "    variance_new = get_variance_new(X, x_mean, z_means, z_covs, W_new)\n",
    "    \n",
    "    return W_new, variance_new    "
   ]
  },
  {
   "cell_type": "code",
   "execution_count": null,
   "metadata": {
    "scrolled": true
   },
   "outputs": [
    {
     "name": "stdout",
     "output_type": "stream",
     "text": [
      "0 step\n",
      "1 step\n",
      "2 step\n",
      "3 step\n",
      "4 step\n",
      "5 step\n",
      "6 step\n",
      "7 step\n",
      "8 step\n",
      "9 step\n",
      "10 step\n",
      "11 step\n",
      "12 step\n",
      "13 step\n",
      "14 step\n",
      "15 step\n",
      "16 step\n",
      "17 step\n",
      "18 step\n",
      "19 step\n",
      "20 step\n",
      "21 step\n",
      "22 step\n",
      "23 step\n",
      "24 step\n",
      "25 step\n",
      "26 step\n",
      "27 step\n",
      "28 step\n",
      "29 step\n",
      "30 step\n",
      "31 step\n",
      "32 step\n",
      "33 step\n",
      "34 step\n",
      "35 step\n",
      "36 step\n",
      "37 step\n",
      "38 step\n",
      "39 step\n",
      "40 step\n",
      "41 step\n",
      "42 step\n",
      "43 step\n",
      "44 step\n",
      "45 step\n",
      "46 step\n",
      "47 step\n",
      "48 step\n",
      "49 step\n",
      "50 step\n",
      "51 step\n",
      "52 step\n",
      "53 step\n",
      "54 step\n",
      "55 step\n",
      "56 step\n",
      "57 step\n",
      "58 step\n",
      "59 step\n",
      "60 step\n",
      "61 step\n",
      "62 step\n",
      "63 step\n",
      "64 step\n",
      "65 step\n",
      "66 step\n",
      "67 step\n",
      "68 step\n",
      "69 step\n",
      "70 step\n",
      "71 step\n",
      "72 step\n",
      "73 step\n",
      "74 step\n",
      "75 step\n",
      "76 step\n",
      "77 step\n"
     ]
    }
   ],
   "source": [
    "W = np.random.randn(x_dim, z_dim) * 0.01\n",
    "variance = 0.01\n",
    "\n",
    "x_mean = np.mean(X, axis=0)\n",
    " \n",
    "for step in range(100):\n",
    "    print(step, 'step')\n",
    "    z_means, z_covs = E_step(W, variance, X, x_mean)\n",
    "    W, variance = M_step(X, x_mean, z_means, z_covs)"
   ]
  },
  {
   "cell_type": "markdown",
   "metadata": {},
   "source": [
    "### Plotting"
   ]
  },
  {
   "cell_type": "code",
   "execution_count": null,
   "metadata": {},
   "outputs": [],
   "source": [
    "# borrowed from https://gist.github.com/jakevdp/91077b0cae40f8f8244a\n",
    "def discrete_cmap(N, base_cmap=None):\n",
    "    \"\"\"Create an N-bin discrete colormap from the specified input map\"\"\"\n",
    "\n",
    "    # Note that if base_cmap is a string or None, you can simply do\n",
    "    #    return plt.cm.get_cmap(base_cmap, N)\n",
    "    # The following works for string, None, or a colormap instance:\n",
    "\n",
    "    base = plt.cm.get_cmap(base_cmap)\n",
    "    color_list = base(np.linspace(0, 1, N))\n",
    "    cmap_name = base.name + str(N)\n",
    "    return base.from_list(cmap_name, color_list, N)"
   ]
  },
  {
   "cell_type": "markdown",
   "metadata": {},
   "source": [
    "### Z-embedding Results"
   ]
  },
  {
   "cell_type": "code",
   "execution_count": null,
   "metadata": {},
   "outputs": [],
   "source": [
    "from numpy.linalg import inv\n",
    "\n",
    "M = W.T @ W + variance * np.eye(z_dim)\n",
    "M_inv = inv(M)\n",
    "\n",
    "Z = []\n",
    "labels = []\n",
    "for index in range(0, len(X)):\n",
    "    x = X[index]\n",
    "    z = M_inv @ W.T @ (x - x_mean)\n",
    "    Z.append(z[:, 0])\n",
    "    labels.append(t[index])\n",
    "    \n",
    "Z = np.stack(Z)\n",
    "labels = np.stack(labels)\n",
    "\n",
    "print(Z.shape)\n",
    "\n",
    "plt.figure(figsize=[10, 8])\n",
    "plt.scatter(Z[:, 0], Z[:, 1], c=labels, cmap=discrete_cmap(10, 'jet'), alpha=0.8)\n",
    "plt.colorbar()\n",
    "plt.show()"
   ]
  },
  {
   "cell_type": "markdown",
   "metadata": {},
   "source": [
    "### Interpolation Z-vectors"
   ]
  },
  {
   "cell_type": "code",
   "execution_count": null,
   "metadata": {},
   "outputs": [],
   "source": [
    "x_grid = np.linspace(-4, 4, 10)\n",
    "y_grid = np.linspace(4, -4, 10)\n",
    "xv, yv = np.meshgrid(x_grid, y_grid)\n",
    "Z = np.stack([xv, yv], axis=2)\n",
    "\n",
    "plt.figure(figsize=[10, 10])\n",
    "for x_index in range(10):\n",
    "    for y_index in range(10):\n",
    "        z = Z[x_index][y_index][:, None]\n",
    "        x = (W @ z + x_mean)[:, 0]\n",
    "        \n",
    "        plt.subplot(10, 10, x_index + 1 + y_index * 10)\n",
    "        plt.xticks([], [])\n",
    "        plt.yticks([], [])\n",
    "        plt.imshow(x.reshape((height, width)), cmap='gray')\n",
    "        \n",
    "plt.show()\n",
    "        "
   ]
  },
  {
   "cell_type": "code",
   "execution_count": null,
   "metadata": {},
   "outputs": [],
   "source": []
  },
  {
   "cell_type": "code",
   "execution_count": null,
   "metadata": {},
   "outputs": [],
   "source": []
  }
 ],
 "metadata": {
  "kernelspec": {
   "display_name": "Python 3",
   "language": "python",
   "name": "python3"
  },
  "language_info": {
   "codemirror_mode": {
    "name": "ipython",
    "version": 3
   },
   "file_extension": ".py",
   "mimetype": "text/x-python",
   "name": "python",
   "nbconvert_exporter": "python",
   "pygments_lexer": "ipython3",
   "version": "3.7.5"
  }
 },
 "nbformat": 4,
 "nbformat_minor": 2
}
