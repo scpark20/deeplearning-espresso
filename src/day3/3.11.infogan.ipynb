{
 "cells": [
  {
   "cell_type": "markdown",
   "metadata": {},
   "source": [
    "# InfoGAN with MNIST\n",
    "\n",
    "* `InfoGAN: Interpretable Representation Learning by Information Maximizing Generative Adversarial Nets` [arXiv:1606.03657](https://arxiv.org/abs/1606.03657)\n",
    "  * Xi Chen, Yan Duan, Rein Houthooft, John Schulman, Ilya Sutskever, Pieter Abbeel\n",
    "* Implemented by [`tf.keras.layers`](https://www.tensorflow.org/api_docs/python/tf/keras/layers) and [`eager execution`](https://www.tensorflow.org/guide/eager)."
   ]
  },
  {
   "cell_type": "markdown",
   "metadata": {},
   "source": [
    "## Import modules"
   ]
  },
  {
   "cell_type": "code",
   "execution_count": null,
   "metadata": {
    "scrolled": true
   },
   "outputs": [],
   "source": [
    "from __future__ import absolute_import\n",
    "from __future__ import division\n",
    "from __future__ import print_function\n",
    "from __future__ import unicode_literals\n",
    "\n",
    "import os\n",
    "import sys\n",
    "import time\n",
    "import glob\n",
    "\n",
    "import numpy as np\n",
    "import matplotlib.pyplot as plt\n",
    "%matplotlib inline\n",
    "\n",
    "import PIL\n",
    "import imageio\n",
    "from IPython import display\n",
    "\n",
    "import tensorflow as tf\n",
    "from tensorflow.keras import layers\n",
    "\n",
    "sys.path.append(os.path.dirname(os.path.abspath('.')))\n",
    "from utils.image_utils import *\n",
    "from utils.ops import *\n",
    "\n",
    "os.environ[\"CUDA_VISIBLE_DEVICES\"]=\"0\"\n",
    "# tf.debugging.set_log_device_placement(True)"
   ]
  },
  {
   "cell_type": "markdown",
   "metadata": {},
   "source": [
    "## Setting hyperparameters"
   ]
  },
  {
   "cell_type": "code",
   "execution_count": null,
   "metadata": {},
   "outputs": [],
   "source": [
    "# Training Flags (hyperparameter configuration)\n",
    "model_name = 'infogan'\n",
    "train_dir = os.path.join('train', model_name, 'exp1')\n",
    "dataset_name = 'mnist'\n",
    "assert dataset_name in ['mnist', 'fashion_mnist']\n",
    "\n",
    "max_epochs = 50\n",
    "save_model_epochs = 10\n",
    "print_steps = 100\n",
    "save_images_epochs = 1\n",
    "batch_size = 128\n",
    "learning_rate_D = 2e-4\n",
    "learning_rate_G = 1e-3\n",
    "k = 1 # the number of step of learning D before learning G\n",
    "num_classes = 10 # number of classes for (or fashion-) MNIST\n",
    "num_examples_to_generate = num_classes\n",
    "noise_dim = 62\n",
    "categorical_code_dim = num_classes # for (or fashion-) MNIST\n",
    "continuous_code_dim = 2"
   ]
  },
  {
   "cell_type": "markdown",
   "metadata": {},
   "source": [
    "## Load the MNIST dataset"
   ]
  },
  {
   "cell_type": "code",
   "execution_count": null,
   "metadata": {},
   "outputs": [],
   "source": [
    "# Load training and eval data from tf.keras\n",
    "if dataset_name == 'mnist':\n",
    "  (train_images, train_labels), _ = \\\n",
    "      tf.keras.datasets.mnist.load_data()\n",
    "else:\n",
    "  (train_images, train_labels), _ = \\\n",
    "      tf.keras.datasets.fashion_mnist.load_data()\n",
    "\n",
    "train_images = train_images.reshape(-1, MNIST_SIZE, MNIST_SIZE, 1).astype('float32')\n",
    "#train_images = train_images / 255. # Normalize the images to [0, 1]\n",
    "train_images = (train_images - 127.5) / 127.5 # Normalize the images to [-1, 1]\n",
    "train_labels = train_labels.astype(np.int32)"
   ]
  },
  {
   "cell_type": "markdown",
   "metadata": {},
   "source": [
    "## Set up dataset with `tf.data`\n",
    "\n",
    "### create input pipeline with `tf.data.Dataset`"
   ]
  },
  {
   "cell_type": "code",
   "execution_count": null,
   "metadata": {},
   "outputs": [],
   "source": [
    "#tf.random.set_seed(219)\n",
    "# for train\n",
    "N = len(train_images)\n",
    "train_dataset = tf.data.Dataset.from_tensor_slices(train_images)\n",
    "train_dataset = train_dataset.shuffle(buffer_size=N)\n",
    "train_dataset = train_dataset.batch(batch_size=batch_size, drop_remainder=True)\n",
    "print(train_dataset)"
   ]
  },
  {
   "cell_type": "markdown",
   "metadata": {},
   "source": [
    "## Create the generator and discriminator models"
   ]
  },
  {
   "cell_type": "code",
   "execution_count": null,
   "metadata": {},
   "outputs": [],
   "source": [
    "class Generator(tf.keras.Model):\n",
    "  \"\"\"Build a generator that maps latent space to real space\n",
    "    given categorical conditions and continuous condtions\n",
    "    G(z, cat_code, cont_code): (z, c1, c2) -> x\n",
    "  \"\"\"\n",
    "  def __init__(self):\n",
    "    super(Generator, self).__init__()\n",
    "    self.fc1 = Dense(units=1024)\n",
    "    self.fc2 = Dense(units=7 * 7 * 128)\n",
    "    self.conv1 = ConvTranspose(64, 4)\n",
    "    self.conv2 = ConvTranspose(1, 4, apply_batchnorm=False, activation='tanh')\n",
    "\n",
    "  def call(self, noise_inputs, categorical_code, continuous_code, training=True):\n",
    "    \"\"\"Run the model.\"\"\"\n",
    "    # random z vector (noise dim): 62 dim\n",
    "    # categorical code (for MNIST): 10 dim\n",
    "    # continuous code: 2 dim\n",
    "    # inputs: 62 + 10 + 2 = 74 dim\n",
    "    inputs = tf.concat([noise_inputs, categorical_code, continuous_code], axis=1)\n",
    "\n",
    "    fc1 = self.fc1(inputs, training=training)               # fc1: [1024]\n",
    "    fc2 = self.fc2(fc1, training=training)                  # fc2: [7 x 7 x 128]\n",
    "    fc2 = tf.reshape(fc2, [-1, 7, 7, 128])                  # fc2: [7, 7, 128]\n",
    "    conv1 = self.conv1(fc2, training=training)              # conv1: [14, 14, 64]\n",
    "    generated_images = self.conv2(conv1, training=training) # generated_images: [28, 28, 1]\n",
    "    \n",
    "    return generated_images"
   ]
  },
  {
   "cell_type": "code",
   "execution_count": null,
   "metadata": {},
   "outputs": [],
   "source": [
    "class Discriminator(tf.keras.Model):\n",
    "  \"\"\"Build a discriminator that discriminate real image x whether real or fake.\n",
    "    D(x): x -> [0, 1]\n",
    "  \"\"\"\n",
    "  def __init__(self):\n",
    "    super(Discriminator, self).__init__()\n",
    "    self.conv1 = Conv(64, 4, 2, apply_batchnorm=False, activation='leaky_relu', leaky_relu_alpha=0.1)\n",
    "    self.conv2 = Conv(128, 4, 2, activation='leaky_relu', leaky_relu_alpha=0.1)\n",
    "    self.flatten = layers.Flatten()\n",
    "    self.fc1 = Dense(units=1024, activation='leaky_relu', leaky_relu_alpha=0.1)\n",
    "    self.fc2 = Dense(units=1, apply_batchnorm=False, activation='none')\n",
    "\n",
    "  def call(self, image_inputs, training=True):\n",
    "    \"\"\"Run the model.\"\"\"\n",
    "    # image_inputs: [28, 28, 1]\n",
    "    conv1 = self.conv1(image_inputs)              # conv1: [14, 14, 64]\n",
    "    conv2 = self.conv2(conv1, training=training)  # conv2: [7, 7, 128]\n",
    "    flatten = self.flatten(conv2)                 # flatten: [7 x 7 x 128]\n",
    "    fc1 = self.fc1(flatten, training=training)    # fc1: [1024]\n",
    "    discriminator_logits = self.fc2(fc1)          # discriminator_logits: [1]\n",
    "    \n",
    "    return discriminator_logits, fc1"
   ]
  },
  {
   "cell_type": "code",
   "execution_count": null,
   "metadata": {},
   "outputs": [],
   "source": [
    "class RecognitionNetwork(tf.keras.Model):\n",
    "  \"\"\"Build a RecognitionNetwork\n",
    "  \"\"\"\n",
    "  def __init__(self):\n",
    "    super(RecognitionNetwork, self).__init__()\n",
    "    self.fc1 = Dense(units=128, activation='leaky_relu', leaky_relu_alpha=0.1)\n",
    "    self.fc2 = Dense(units=categorical_code_dim + continuous_code_dim,\n",
    "                     apply_batchnorm=False, activation='none')\n",
    "    \n",
    "  def call(self, inputs, training=True):\n",
    "                                              # inputs: [1024]\n",
    "    fc1 = self.fc1(inputs, training=training) # fc1: [128]\n",
    "    q_output = self.fc2(fc1)                  # q_output: [10 + 2]\n",
    "    q_logits = q_output[:, :categorical_code_dim] # q_logits: [10]\n",
    "    q_cont = q_output[:, categorical_code_dim:] # q_cont: [2]\n",
    "    \n",
    "    return q_logits, q_cont"
   ]
  },
  {
   "cell_type": "code",
   "execution_count": null,
   "metadata": {},
   "outputs": [],
   "source": [
    "generator = Generator()\n",
    "discriminator = Discriminator()\n",
    "q_network = RecognitionNetwork()"
   ]
  },
  {
   "cell_type": "markdown",
   "metadata": {},
   "source": [
    "### Plot generated image via generator network"
   ]
  },
  {
   "cell_type": "code",
   "execution_count": null,
   "metadata": {},
   "outputs": [],
   "source": [
    "noise = tf.random.normal([1, noise_dim])\n",
    "categorical_code = tf.convert_to_tensor([[1, 0, 0, 0, 0,\n",
    "                                          0, 0, 0, 0, 0]], dtype=tf.float32)\n",
    "continuous_code = tf.random.normal([1, continuous_code_dim])\n",
    "generated_image = generator(noise, categorical_code, continuous_code, training=False)\n",
    "\n",
    "plt.imshow(generated_image[0, :, :, 0], cmap='gray')"
   ]
  },
  {
   "cell_type": "markdown",
   "metadata": {},
   "source": [
    "### Test discriminator network and Recognition network\n",
    "\n",
    "* **CAUTION**: the outputs of discriminator is **logits** (unnormalized probability) NOT probabilites"
   ]
  },
  {
   "cell_type": "code",
   "execution_count": null,
   "metadata": {},
   "outputs": [],
   "source": [
    "logit, recog_input = discriminator(generated_image, training=True)\n",
    "q_logits, q_cont = q_network(recog_input, training=True)\n",
    "\n",
    "print(logit)\n",
    "print(recog_input)\n",
    "print(q_logits)\n",
    "print(q_cont)"
   ]
  },
  {
   "cell_type": "markdown",
   "metadata": {},
   "source": [
    "## Define the loss functions and the optimizer"
   ]
  },
  {
   "cell_type": "code",
   "execution_count": null,
   "metadata": {},
   "outputs": [],
   "source": [
    "# use logits for consistency with previous code I made\n",
    "# `tf.losses` and `tf.keras.losses` are the same API (alias)\n",
    "bce = tf.losses.BinaryCrossentropy(from_logits=True)\n",
    "sfte = tf.losses.CategoricalCrossentropy(from_logits=True)\n",
    "mse = tf.losses.MeanSquaredError()"
   ]
  },
  {
   "cell_type": "code",
   "execution_count": null,
   "metadata": {},
   "outputs": [],
   "source": [
    "def GANLoss(logits, is_real=True):\n",
    "  \"\"\"Computes standard GAN loss between `logits` and `labels`.\n",
    "\n",
    "  Args:\n",
    "    logits (`2-rank Tensor`): logits.\n",
    "    is_real (`bool`): True means `1` labeling, False means `0` labeling.\n",
    "\n",
    "  Returns:\n",
    "    loss (`0-rank Tensor`): the standard GAN loss value. (binary_cross_entropy)\n",
    "  \"\"\"\n",
    "  if is_real:\n",
    "    labels = tf.ones_like(logits)\n",
    "  else:\n",
    "    labels = tf.zeros_like(logits)\n",
    "\n",
    "  return bce(labels, logits)"
   ]
  },
  {
   "cell_type": "code",
   "execution_count": null,
   "metadata": {},
   "outputs": [],
   "source": [
    "def discriminator_loss(real_logits, fake_logits):\n",
    "  # losses of real with label \"1\"\n",
    "  real_loss = GANLoss(logits=real_logits, is_real=True)\n",
    "  # losses of fake with label \"0\"\n",
    "  fake_loss = GANLoss(logits=fake_logits, is_real=False)\n",
    "  \n",
    "  return real_loss + fake_loss"
   ]
  },
  {
   "cell_type": "code",
   "execution_count": null,
   "metadata": {},
   "outputs": [],
   "source": [
    "def generator_loss(fake_logits):\n",
    "  # losses of Generator with label \"1\" that used to fool the Discriminator\n",
    "  return GANLoss(logits=fake_logits, is_real=True)"
   ]
  },
  {
   "cell_type": "code",
   "execution_count": null,
   "metadata": {},
   "outputs": [],
   "source": [
    "def mutual_information_loss(q_logits, q_cont, categorical_code, continuous_code):\n",
    "  # Categorical code\n",
    "  loss_Q_cate = sfte(categorical_code, q_logits)\n",
    "\n",
    "  # Continuous code\n",
    "  loss_Q_cont = tf.reduce_mean(\n",
    "                  tf.reduce_sum(\n",
    "                    tf.square(continuous_code - q_cont), axis=1))\n",
    "\n",
    "  # losses of Recognition network\n",
    "  return loss_Q_cate + loss_Q_cont"
   ]
  },
  {
   "cell_type": "code",
   "execution_count": null,
   "metadata": {},
   "outputs": [],
   "source": [
    "discriminator_optimizer = tf.keras.optimizers.Adam(learning_rate_D, beta_1=0.5)\n",
    "generator_optimizer = tf.keras.optimizers.Adam(learning_rate_G, beta_1=0.5)\n",
    "q_network_optimizer = tf.keras.optimizers.Adam(learning_rate_D, beta_1=0.5)"
   ]
  },
  {
   "cell_type": "markdown",
   "metadata": {},
   "source": [
    "## Checkpoints (Object-based saving)"
   ]
  },
  {
   "cell_type": "code",
   "execution_count": null,
   "metadata": {},
   "outputs": [],
   "source": [
    "checkpoint_dir = train_dir\n",
    "if not tf.io.gfile.exists(checkpoint_dir):\n",
    "  tf.io.gfile.makedirs(checkpoint_dir)\n",
    "checkpoint_prefix = os.path.join(checkpoint_dir, \"ckpt\")\n",
    "checkpoint = tf.train.Checkpoint(generator_optimizer=generator_optimizer,\n",
    "                                 discriminator_optimizer=discriminator_optimizer,\n",
    "                                 q_network_optimizer=q_network_optimizer,\n",
    "                                 generator=generator,\n",
    "                                 discriminator=discriminator,\n",
    "                                 q_network=q_network)"
   ]
  },
  {
   "cell_type": "markdown",
   "metadata": {},
   "source": [
    "## Training"
   ]
  },
  {
   "cell_type": "markdown",
   "metadata": {},
   "source": [
    "### Define training one step function"
   ]
  },
  {
   "cell_type": "code",
   "execution_count": null,
   "metadata": {},
   "outputs": [],
   "source": [
    "# Notice the use of `tf.function`\n",
    "# This annotation causes the function to be \"compiled\".\n",
    "@tf.function\n",
    "def discriminator_train_step(images, noise, categorical_code, continuous_code):\n",
    "\n",
    "  with tf.GradientTape() as disc_tape:\n",
    "    generated_images = generator(noise, categorical_code, continuous_code, training=True)\n",
    "\n",
    "    real_logits, _ = discriminator(images, training=True)\n",
    "    fake_logits, recog_inputs = discriminator(generated_images, training=True)\n",
    "    \n",
    "    disc_loss = discriminator_loss(real_logits, fake_logits)\n",
    "\n",
    "  gradients_of_discriminator = disc_tape.gradient(disc_loss, discriminator.trainable_variables)\n",
    "  discriminator_optimizer.apply_gradients(zip(gradients_of_discriminator, discriminator.trainable_variables))\n",
    "  \n",
    "  return disc_loss"
   ]
  },
  {
   "cell_type": "code",
   "execution_count": null,
   "metadata": {},
   "outputs": [],
   "source": [
    "# Notice the use of `tf.function`\n",
    "# This annotation causes the function to be \"compiled\".\n",
    "@tf.function\n",
    "def generator_train_step(noise, categorical_code, continuous_code):\n",
    "  \n",
    "  with tf.GradientTape() as gen_tape:\n",
    "    generated_images = generator(noise, categorical_code, continuous_code, training=True)\n",
    "\n",
    "    fake_logits, recog_inputs = discriminator(generated_images, training=True)\n",
    "    \n",
    "    gen_loss = generator_loss(fake_logits)\n",
    "\n",
    "  gradients_of_generator = gen_tape.gradient(gen_loss, generator.trainable_variables)\n",
    "  generator_optimizer.apply_gradients(zip(gradients_of_generator, generator.trainable_variables))\n",
    "    \n",
    "  return gen_loss"
   ]
  },
  {
   "cell_type": "code",
   "execution_count": null,
   "metadata": {},
   "outputs": [],
   "source": [
    "# Notice the use of `tf.function`\n",
    "# This annotation causes the function to be \"compiled\".\n",
    "@tf.function\n",
    "def q_network_train_step(noise, categorical_code, continuous_code):\n",
    "\n",
    "  with tf.GradientTape() as q_net_tape:\n",
    "    generated_images = generator(noise, categorical_code, continuous_code, training=True)\n",
    "\n",
    "    fake_logits, recog_inputs = discriminator(generated_images, training=True)\n",
    "    q_logits, q_cont = q_network(recog_inputs, training=True)\n",
    "    \n",
    "    mi_loss = mutual_information_loss(q_logits, q_cont, categorical_code, continuous_code)\n",
    "\n",
    "  gradients_of_q_network = q_net_tape.gradient(mi_loss, generator.trainable_variables + q_network.trainable_variables)\n",
    "  q_network_optimizer.apply_gradients(zip(gradients_of_q_network, generator.trainable_variables + q_network.trainable_variables))\n",
    "  \n",
    "  return mi_loss"
   ]
  },
  {
   "cell_type": "markdown",
   "metadata": {},
   "source": [
    "### A function for plotting"
   ]
  },
  {
   "cell_type": "code",
   "execution_count": null,
   "metadata": {},
   "outputs": [],
   "source": [
    "def plot_samples(categorical_code=0):\n",
    "    \n",
    "    # get 2d continuous codes in [-1, 1]\n",
    "    x = np.linspace(-1, 1, 10).astype(np.float32)\n",
    "    y = np.linspace(-1, 1, 10).astype(np.float32)\n",
    "    X, Y = tf.meshgrid(x, y)\n",
    "    Z = tf.concat([tf.expand_dims(X, axis=-1), tf.expand_dims(Y, axis=-1)], axis=2)\n",
    "    continuous_code = tf.reshape(Z, [100, 2])\n",
    "\n",
    "    # z noise values should be equal, we make the condtinuous codes different only.\n",
    "    noise = tf.random.normal([1, noise_dim])\n",
    "    noise = tf.concat([noise for _ in range(100)], axis=0)\n",
    "    \n",
    "    categorical_code = tf.one_hot(indices=tf.ones([100,], dtype=tf.int64) * categorical_code, depth=10)\n",
    "    \n",
    "    generated_image = generator(noise, categorical_code, continuous_code, training=False)\n",
    "\n",
    "    # plot image grids\n",
    "    plt.figure(figsize=[10, 10])\n",
    "    for x_index in range(10):\n",
    "        for y_index in range(10):\n",
    "            plt.subplot(10, 10, x_index + 1 + y_index * 10)\n",
    "            plt.xticks([], [])\n",
    "            plt.yticks([], [])\n",
    "            plt.imshow(generated_image[x_index + y_index * 10, :, :, 0], cmap='gray')\n",
    "\n",
    "    plt.show()"
   ]
  },
  {
   "cell_type": "markdown",
   "metadata": {},
   "source": [
    "### Train full steps"
   ]
  },
  {
   "cell_type": "code",
   "execution_count": null,
   "metadata": {
    "scrolled": false
   },
   "outputs": [],
   "source": [
    "print('Start Training.')\n",
    "num_batches_per_epoch = int(N / batch_size)\n",
    "global_step = tf.Variable(0, trainable=False)\n",
    "sample_condition = tf.eye(num_classes)\n",
    "  \n",
    "for epoch in range(max_epochs):\n",
    "  \n",
    "  for step, images in enumerate(train_dataset):\n",
    "    start_time = time.time()\n",
    "    \n",
    "    # generating noise from a uniform distribution\n",
    "    noise = tf.random.uniform([batch_size, noise_dim], minval=-1.0, maxval=1.0)\n",
    "    categorical_code = tf.one_hot(\n",
    "                        tf.random.categorical([categorical_code_dim * [1. / categorical_code_dim]], batch_size)[0],\n",
    "                              depth=categorical_code_dim)\n",
    "    continuous_code = tf.random.uniform(shape=[batch_size, continuous_code_dim], minval=-1.0, maxval=1.0)\n",
    "    \n",
    "    disc_loss = discriminator_train_step(images, noise, categorical_code, continuous_code)\n",
    "    gen_loss = generator_train_step(noise, categorical_code, continuous_code)\n",
    "    mi_loss = q_network_train_step(noise, categorical_code, continuous_code)\n",
    "    global_step.assign_add(1)\n",
    "        \n",
    "    if global_step.numpy() % print_steps == 0:\n",
    "      epochs = epoch + step / float(num_batches_per_epoch)\n",
    "      duration = time.time() - start_time\n",
    "      examples_per_sec = batch_size / float(duration)\n",
    "      display.clear_output(wait=True)\n",
    "      print(\"Epochs: {:.2f} global_step: {} loss_D: {:.3g} loss_G: {:.3g} mi_loss: {:.3g} ({:.2f} examples/sec; {:.3f} sec/batch)\".format(\n",
    "                epochs, global_step.numpy(), disc_loss, gen_loss, mi_loss, examples_per_sec, duration))\n",
    "      \n",
    "      plot_samples(np.random.randint(0, 10))"
   ]
  },
  {
   "cell_type": "code",
   "execution_count": null,
   "metadata": {},
   "outputs": [],
   "source": []
  },
  {
   "cell_type": "code",
   "execution_count": null,
   "metadata": {},
   "outputs": [],
   "source": []
  }
 ],
 "metadata": {
  "kernelspec": {
   "display_name": "Python 3",
   "language": "python",
   "name": "python3"
  },
  "language_info": {
   "codemirror_mode": {
    "name": "ipython",
    "version": 3
   },
   "file_extension": ".py",
   "mimetype": "text/x-python",
   "name": "python",
   "nbconvert_exporter": "python",
   "pygments_lexer": "ipython3",
   "version": "3.7.5"
  },
  "latex_envs": {
   "LaTeX_envs_menu_present": true,
   "autoclose": false,
   "autocomplete": true,
   "bibliofile": "biblio.bib",
   "cite_by": "apalike",
   "current_citInitial": 1,
   "eqLabelWithNumbers": true,
   "eqNumInitial": 1,
   "hotkeys": {
    "equation": "Ctrl-E",
    "itemize": "Ctrl-I"
   },
   "labels_anchors": false,
   "latex_user_defs": false,
   "report_style_numbering": false,
   "user_envs_cfg": false
  },
  "toc": {
   "base_numbering": 1,
   "nav_menu": {},
   "number_sections": true,
   "sideBar": true,
   "skip_h1_title": false,
   "title_cell": "Table of Contents",
   "title_sidebar": "Contents",
   "toc_cell": false,
   "toc_position": {},
   "toc_section_display": true,
   "toc_window_display": false
  },
  "varInspector": {
   "cols": {
    "lenName": 16,
    "lenType": 16,
    "lenVar": 40
   },
   "kernels_config": {
    "python": {
     "delete_cmd_postfix": "",
     "delete_cmd_prefix": "del ",
     "library": "var_list.py",
     "varRefreshCmd": "print(var_dic_list())"
    },
    "r": {
     "delete_cmd_postfix": ") ",
     "delete_cmd_prefix": "rm(",
     "library": "var_list.r",
     "varRefreshCmd": "cat(var_dic_list()) "
    }
   },
   "types_to_exclude": [
    "module",
    "function",
    "builtin_function_or_method",
    "instance",
    "_Feature"
   ],
   "window_display": false
  }
 },
 "nbformat": 4,
 "nbformat_minor": 2
}
